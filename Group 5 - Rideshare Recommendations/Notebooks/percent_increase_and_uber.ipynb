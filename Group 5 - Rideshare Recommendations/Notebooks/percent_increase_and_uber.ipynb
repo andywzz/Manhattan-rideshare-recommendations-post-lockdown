{
 "cells": [
  {
   "cell_type": "markdown",
   "metadata": {},
   "source": [
    "**Importing packages and data**\n",
    "- data of the relevant months are imported from the official MTA website \n",
    "- a column naming problem of 'EXITS' was solved \n"
   ]
  },
  {
   "cell_type": "code",
   "execution_count": null,
   "metadata": {},
   "outputs": [],
   "source": [
    "import pandas as pd\n",
    "import numpy as np\n",
    "\n",
    "\n",
    "def get_data(week_nums):\n",
    "    url = \"http://web.mta.info/developers/data/nyct/turnstile/turnstile_{}.txt\"\n",
    "    dfs = []\n",
    "    for week_num in week_nums:\n",
    "        file_url = url.format(week_num)\n",
    "        dfs.append(pd.read_csv(file_url))\n",
    "    return pd.concat(dfs)\n",
    "        \n",
    "week_nums = [200307, 200314, 200321,200328,200404,200411,200418,200425,200502,200509,200516,200523,200530,200606,200613,200620,200627]\n",
    "turnstiles_df = get_data(week_nums)\n",
    "turnstiles_df.rename(columns={'EXITS                                                               ': 'EXITS'}, inplace=True)\n",
    "\n"
   ]
  },
  {
   "cell_type": "markdown",
   "metadata": {},
   "source": [
    "**Preliminary data visualization**\n",
    "- a preliminary plot was created to show the effect of the lockdown on one turnstile of one `C/A`, `UNIT`, `SCP`, and `STATION` combination\n",
    "\n",
    "\n"
   ]
  },
  {
   "cell_type": "code",
   "execution_count": null,
   "metadata": {
    "scrolled": true
   },
   "outputs": [],
   "source": [
    "\"\"\"\n",
    "plot\n",
    "\"\"\"\n",
    "%matplotlib inline\n",
    "import matplotlib.pyplot as plt\n",
    "plt.figure(figsize=(10,3))\n",
    "filtered=turnstiles_df.loc[(turnstiles_df.STATION=='59 ST')&(turnstiles_df.SCP=='02-00-00') & (turnstiles_df['C/A']=='A002') & (turnstiles_df.UNIT=='R051')];\n",
    "filtered.groupby([\"DATE\"])[['DATE','ENTRIES']].apply(lambda x:x.ENTRIES.max()-x.ENTRIES.min()).plot()\n",
    "\n",
    "\n",
    "plt.ylabel('Entries per day');\n",
    "\n"
   ]
  },
  {
   "cell_type": "markdown",
   "metadata": {},
   "source": [
    "**more data acquisition **\n",
    "- obtained the exact data from the beginning of march up until the present and will be divided into lockdown vs reopen\n",
    "\n"
   ]
  },
  {
   "cell_type": "code",
   "execution_count": null,
   "metadata": {},
   "outputs": [],
   "source": [
    "def get_data(week_nums):\n",
    "    url = \"http://web.mta.info/developers/data/nyct/turnstile/turnstile_{}.txt\"\n",
    "    dfs = []\n",
    "    for week_num in week_nums:\n",
    "        file_url = url.format(week_num)\n",
    "        print(file_url)\n",
    "        dfs.append(pd.read_csv(file_url))\n",
    "    return pd.concat(dfs)\n",
    "        \n",
    "week_nums = [200328,200404,200411,200418,200425,200502,200509,200516,200523,200530,200606,200613,200620]\n",
    "turnstiles_lockdown_df = get_data(week_nums)\n",
    "turnstiles_lockdown_df;\n",
    "\n"
   ]
  },
  {
   "cell_type": "code",
   "execution_count": null,
   "metadata": {},
   "outputs": [],
   "source": [
    "def get_data(week_nums):\n",
    "    url = \"http://web.mta.info/developers/data/nyct/turnstile/turnstile_{}.txt\"\n",
    "    dfs = []\n",
    "    for week_num in week_nums:\n",
    "        file_url = url.format(week_num)\n",
    "        print(file_url)\n",
    "        dfs.append(pd.read_csv(file_url))\n",
    "    return pd.concat(dfs)\n",
    "        \n",
    "week_nums = [200627]\n",
    "turnstiles_reopen_df = get_data(week_nums)\n"
   ]
  },
  {
   "cell_type": "markdown",
   "metadata": {},
   "source": [
    "**uber data preliminary  analysis**\n",
    "- downloaded and imported official data from Uber used in a study from approximately the same time period, but in 2015.\n",
    "- dowloaded and imported official new york taxi zone data from the same study. The taxi zone allows me to link ridership by neighborhood via `locationID`.\n",
    "- filtered the data so that only Manhattan data is selected"
   ]
  },
  {
   "cell_type": "code",
   "execution_count": null,
   "metadata": {},
   "outputs": [],
   "source": [
    "#Data too large to be uploaded to github - retrieved from here (sorry!)\n",
    "uber_data=pd.read_csv(#https://github.com/andywzz/uber-tlc-foil-response/blob/master/uber-trip-data/uber-raw-data-janjune-15.csv.zip)\n",
    "uber_location_data=pd.read_csv(\"taxi-zone-lookup.csv\")\n",
    "uber_location_data.rename(columns={'LocationID': 'locationID'}, inplace=True)\n",
    "uber_location_merge=pd.merge(uber_data,uber_location_data,on='locationID')\n",
    "uber_data_manhattan=uber_data_marjun[uber_data_marjun['Borough']=='Manhattan']\n",
    "\n",
    "uber_data_manhattan.groupby('Pickup_date').head(20)\n",
    "\n"
   ]
  },
  {
   "cell_type": "markdown",
   "metadata": {},
   "source": [
    "**cleaned MTA data preliminary manipulation**\n",
    "- grouped the lockdown period data(03/22/20-06/08/20) for manhattan\n",
    "- added a new column called `time_period` where lockdown and reopen data would be labeled"
   ]
  },
  {
   "cell_type": "code",
   "execution_count": null,
   "metadata": {},
   "outputs": [],
   "source": [
    "maraprmayjune_2020_data=pd.read_csv(#\"yourpath/Data/manhattan_daily_stations_2020.csv\")\n",
    "\n",
    "lockdown_data=maraprmayjune_2020_data[maraprmayjune_2020_data['date']>'03/22/2020'][maraprmayjune_2020_data['date']<'06/08/2020']\n",
    "conditions=[\n",
    "    (maraprmayjune_2020_data['date']>'03/21/2020') & (maraprmayjune_2020_data['date']<'06/08/2020'),\n",
    "    (maraprmayjune_2020_data['date']=='06/08/2020') | (maraprmayjune_2020_data['date']>'06/08/2020')]\n",
    "choices=['lockdown','reopen']\n",
    "maraprmayjune_2020_data['time_period'] = np.select(conditions, choices, default='neither')\n",
    "\n"
   ]
  },
  {
   "cell_type": "markdown",
   "metadata": {},
   "source": [
    "**cleaned MTA data manipulation**\n",
    "- ussed various groupbys to obtain the percentage increase of average ridership from before the lockdown vs after the lockdown"
   ]
  },
  {
   "cell_type": "code",
   "execution_count": null,
   "metadata": {},
   "outputs": [],
   "source": [
    "time_period_data=maraprmayjune_2020_data.groupby(['time_period','GeogName','date'],as_index=False)[['new_entry']].sum()\n",
    "lockdowndays=len(time_period_data[time_period_data['time_period']=='lockdown']['date'].unique())\n",
    "reopendays=len(time_period_data[time_period_data['time_period']=='reopen']['date'].unique())\n",
    "time_period_average=maraprmayjune_2020_data.groupby(['GeogName','time_period'],as_index=False)[['new_entry','date']].mean()\n",
    "time_period_df=time_period_average.loc[time_period_average.time_period != 'neither']\n",
    "time_period_df['percent_change']= time_period_df.groupby('GeogName')[['new_entry']].pct_change()*100\n",
    "time_period_df.sort_values('percent_change',ascending=False)\n",
    "time_period_df.rename(columns={'new_entry': 'average_entries'}, inplace=True)\n",
    "time_period_df.sort_values('percent_change',ascending=False)"
   ]
  },
  {
   "cell_type": "markdown",
   "metadata": {},
   "source": [
    "**Uber data cleaning and visualization**\n",
    "- summed the number of pickups by location in the manhattan area and created a bar graph to visualize that data"
   ]
  },
  {
   "cell_type": "code",
   "execution_count": null,
   "metadata": {},
   "outputs": [],
   "source": [
    "uber_total=uber_data_manhattan.groupby(['Zone','locationID'],as_index=False).count()[['Zone','locationID','Affiliated_base_num']].sort_values('Affiliated_base_num',ascending=False)\n",
    "uber_total.rename(columns={'Affiliated_base_num': 'total_ridership'}, inplace=True)\n",
    "uber_total\n",
    "y=uber_total['total_ridership'].head(10)\n",
    "x=uber_total['Zone'].head(10)\n",
    "plt.figure(figsize=(20,5))\n",
    "plt.bar(x,y)\n",
    "\n"
   ]
  },
  {
   "cell_type": "markdown",
   "metadata": {},
   "source": [
    "**MTA data cleaning and visualization continued**\n",
    "- graphed the percentage change in ridership by neighborhood name"
   ]
  },
  {
   "cell_type": "code",
   "execution_count": null,
   "metadata": {},
   "outputs": [],
   "source": [
    "\n",
    "percent_change_df=time_period_df.dropna(how = 'any')\n",
    "percent_change_df.sort_values('percent_change',ascending=False)\n",
    "\n",
    "x_val=percent_change_df['GeogName']\n",
    "y_val=percent_change_df['percent_change']\n",
    "\n",
    "import matplotlib.pyplot as plt\n",
    "import numpy as np\n",
    "import pandas as pd\n",
    "from sklearn import datasets\n",
    "import seaborn as sns\n",
    "plt.figure(figsize=(20,5))\n",
    "plt.bar(x_val,y_val)"
   ]
  },
  {
   "cell_type": "code",
   "execution_count": null,
   "metadata": {},
   "outputs": [],
   "source": [
    "time_period_df\n",
    "x_val=time_period_df['GeogName']\n",
    "y_val=time_period_df['average_entries']\n",
    "plt.figure(figsize=(20,5))\n",
    "plt.bar(x_val,y_val)"
   ]
  },
  {
   "cell_type": "markdown",
   "metadata": {},
   "source": [
    "**MTA data cleaning and visualization continued**\n",
    "- collected the top ten neighbhorhoods with biggest percentage increase in average ridership after the lockdown and plotted it"
   ]
  },
  {
   "cell_type": "code",
   "execution_count": null,
   "metadata": {},
   "outputs": [],
   "source": [
    "\n",
    "time_period_top10=time_period_df.loc[(time_period_df['GeogName']=='WEST VILLAGE')|(time_period_df['GeogName']=='SOHO-TRIBECA-CIVIC CENTER-LITTLE ITALY')|(time_period_df['GeogName']=='HUDSON YARDS-CHELSEA-FLATIRON-UNION SQUARE')|(time_period_df['GeogName']=='TURTLE BAY-EAST MIDTOWN')|(time_period_df['GeogName']=='LINCOLN SQUARE')|(time_period_df['GeogName']=='MIDTOWN-MIDTOWN SOUTH')|(time_period_df['GeogName']=='UPPER EAST SIDE-CARNEGIE HILL')|(time_period_df['GeogName']=='LENOX HILL-ROOSEVELT ISLAND')|(time_period_df['GeogName']=='EAST VILLAGE')|(time_period_df['GeogName']=='LOWER EAST SIDE')]\n",
    "top_10_sorted=time_period_top10.reset_index().sort_values('percent_change')\n",
    "sns.barplot(x=\"GeogName\", hue=\"time_period\", y=\"average_entries\", data=time_period_top10)"
   ]
  },
  {
   "cell_type": "markdown",
   "metadata": {},
   "source": [
    "**MTA data cleaning and visualization continued**\n",
    "- collected the top 7 neighbhorhoods with biggest percentage increase in average ridership after the lockdown "
   ]
  },
  {
   "cell_type": "code",
   "execution_count": null,
   "metadata": {},
   "outputs": [],
   "source": [
    "time_period_top5.to_csv('time_period_top5.csv')"
   ]
  },
  {
   "cell_type": "code",
   "execution_count": null,
   "metadata": {},
   "outputs": [],
   "source": [
    "top_7=pd.read_csv('time_period_top5.csv')\n",
    "top_5_df=top_7[(top_7['GeogName']=='HUDSON YARDS-CHELSEA-FLATIRON-UNION SQUARE')|(top_7['GeogName']=='MIDTOWN-MIDTOWN SOUTH')|(top_7['GeogName']=='SOHO-TRIBECA-CIVIC CENTER-LITTLE ITALY')|(top_7['GeogName']=='WEST VILLAGE')|(top_7['GeogName']=='UPPER EAST SIDE-CARNEGIE HILL')]\n",
    "top_5_df"
   ]
  },
  {
   "cell_type": "markdown",
   "metadata": {},
   "source": [
    "**MTA data cleaning and visualization continued**\n",
    "- collected the top 5 neighbhorhoods with biggest percentage increase in average ridership after the lockdown and plotted it with a double bar format. Lockdown ridership average and after lockdown ridership average"
   ]
  },
  {
   "cell_type": "code",
   "execution_count": null,
   "metadata": {},
   "outputs": [],
   "source": [
    "ticks_x = np.linspace(0, 4, 5)\n",
    "x_ticks=['HUDSON YARDS-CHELSEA-FLATIRON \\n UNION SQUARE', \n",
    "       'MIDTOWN-MIDTOWN \\n SOUTH', 'SOHO-TRIBECA-CIVIC \\n CENTER-LITTLE ITALY',\n",
    "        'UPPER EAST \\n SIDE-CARNEGIE HILL',\n",
    "       'WEST VILLAGE']\n",
    "\n",
    "\n",
    "colors = ['#6f40a8','#ED7C43']\n",
    "plt.figure(figsize=(20,10))\n",
    "ax=sns.barplot(x=\"GeogName\", hue=\"time_period\", y=\"percent_of_total\", data=top_5_df,palette=['#6f40a8','#ED7C43'])\n",
    "plt.xticks(ticks_x,x_ticks)\n",
    "plt.xlabel('Neighborhood',fontsize = 20,labelpad=20)\n",
    "plt.ylabel('Percentage of total ridership',fontsize = 20,labelpad=20)\n",
    "plt.xticks(fontsize=12)\n",
    "plt.yticks(fontsize=12)\n",
    "\n",
    "ax.text(.05, 70,'+109.4%', fontsize=15);\n",
    "ax.text(1.05, 70,'+109.1%', fontsize=15);\n",
    "ax.text(2.05, 70,'+117.3%', fontsize=15);\n",
    "ax.text(3.05, 70,'+102.9%', fontsize=15);\n",
    "ax.text(4.05, 71.5,'+144.7%', fontsize=15);\n",
    "\n",
    "plt.setp(ax.get_legend().get_texts(), fontsize=13)  \n",
    "plt.setp(ax.get_legend().get_title(), fontsize=13)\n",
    "plt.title('Percent increase of MTA ridership after lockdown vs during lockdown',fontsize=25);\n",
    "plt.savefig('percent_increase_doublebar.png')\n"
   ]
  },
  {
   "cell_type": "markdown",
   "metadata": {},
   "source": [
    "**MTA data cleaning and visualization continued**\n",
    "- collected the top 10 neighbhorhoods with biggest percentage increase in average ridership after the lockdown and plotted it with a single bar format and a special font to fit with the style of others."
   ]
  },
  {
   "cell_type": "code",
   "execution_count": null,
   "metadata": {},
   "outputs": [],
   "source": [
    "from matplotlib import font_manager as fm\n",
    "font_jose=fm.FontProperties(fname = '/Users/andywu98/Downloads/JosefinSans-Regular.ttf', size=30)"
   ]
  },
  {
   "cell_type": "code",
   "execution_count": null,
   "metadata": {},
   "outputs": [],
   "source": [
    "ticks_x = np.linspace(0, 9, 10)\n",
    "x_ticks=['LOWER EAST \\n SIDE', 'EAST VILLAGE', 'LINCOLN \\n SQUARE',\n",
    "       'LENOX HILL, \\nROOSEVELT \\n ISLAND', 'TURTLE BAY, \\n EAST MIDTOWN',\n",
    "       'UPPER EAST SIDE, \\n CARNEGIE HILL', 'MIDTOWN, \\n MIDTOWN \\n SOUTH',\n",
    "       'HUDSON YARDS, \\n CHELSEA, \\n FLATIRON, \\n UNION SQUARE',\n",
    "       'SOHO-TRIBECA, \\n CIVIC CENTER, \\n LITTLE ITALY', 'WEST VILLAGE']\n",
    "\n",
    "\n",
    "plt.figure(figsize=(20,10))\n",
    "sns.barplot(x=\"GeogName\", y=\"percent_change\", data=top_10_sorted, palette=['#ED7C43','#ED7C43','#6f40a8','#ED7C43','#6f40a8','#ED7C43','#ED7C43','#6f40a8','#6f40a8','#6f40a8'])\n",
    "plt.xticks(ticks_x,x_ticks)\n",
    "plt.xlabel('Neighborhood',fontproperties=font_jose,fontsize = 20,labelpad=15)\n",
    "plt.ylabel('% increase in average ridership after lockdown',fontproperties=font_jose,fontsize = 20,labelpad=20)\n",
    "plt.xticks(fontproperties=font_jose,fontsize=12)\n",
    "plt.yticks(fontproperties=font_jose,fontsize=12)\n",
    "plt.title('Percent increase of MTA ridership after lockdown',fontproperties=font_jose,fontsize=25);\n",
    "plt.savefig('percent_increase.png')\n"
   ]
  }
 ],
 "metadata": {
  "kernelspec": {
   "display_name": "Python 3",
   "language": "python",
   "name": "python3"
  },
  "language_info": {
   "codemirror_mode": {
    "name": "ipython",
    "version": 3
   },
   "file_extension": ".py",
   "mimetype": "text/x-python",
   "name": "python",
   "nbconvert_exporter": "python",
   "pygments_lexer": "ipython3",
   "version": "3.7.6"
  }
 },
 "nbformat": 4,
 "nbformat_minor": 4
}
